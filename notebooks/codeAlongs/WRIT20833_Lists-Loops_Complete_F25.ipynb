{
  "cells": [
    {
      "cell_type": "markdown",
      "id": "974f65ab",
      "metadata": {
        "id": "974f65ab"
      },
      "source": [
        "[![Open In Colab](https://colab.research.google.com/assets/colab-badge.svg)](https://colab.research.google.com/github/TCU-DCDA/WRIT20833-2025/blob/main/notebooks/codeAlongs/Lists-Loops-Colab.ipynb)"
      ]
    },
    {
      "cell_type": "markdown",
      "id": "fcb68012",
      "metadata": {
        "id": "fcb68012"
      },
      "source": [
        "# The Ways We Count and Are Counted\n",
        "## Lists, List Methods, and Loops in Digital Humanities\n",
        "\n",
        "Welcome to our exploration of how we organize, count, and analyze information in the digital age. Today we'll learn about Python lists - one of the fundamental ways computers help us make sense of collections of data.\n",
        "\n",
        "In digital humanities, we're constantly working with collections: books in a library, words in a text, people in a census, artifacts in a museum. Lists help us organize and analyze these collections systematically.\n",
        "\n",
        "But our title hints at something deeper: **the ways we count AND the ways we are counted**. As we learn to organize and analyze cultural data, we must also consider how people, communities, and ideas are represented, categorized, and quantified in digital collections. Who gets counted? What gets measured? How do our analytical choices shape what we discover about culture and society?\n",
        "\n",
        "### Understanding Data Organization: From Spreadsheets to Code\n",
        "\n",
        "Before we dive into lists, let's connect Python data structures to something familiar - spreadsheets and tables:\n",
        "\n",
        "- **Variables** = **Individual table cells**: Just like a single cell holds one piece of information (a name, date, or number), a variable stores one value\n",
        "- **Lists** = **Table rows or columns**: Just as a row might contain all information about one person, or a column might contain all the ages in a dataset, a list stores multiple related items in order\n",
        "- **Dictionaries** *(coming later)* = **Complete tables**: Like a spreadsheet with both rows and columns, dictionaries can store complex, structured information\n",
        "\n",
        "Think of today's lesson as learning to work with a single row or column from a research spreadsheet - but with the power to analyze thousands of items automatically!"
      ]
    },
    {
      "cell_type": "markdown",
      "id": "152be4d9",
      "metadata": {
        "id": "152be4d9"
      },
      "source": [
        "## Part 1: What Are Lists?\n",
        "\n",
        "Think of a list as a digital filing cabinet or a library catalog. Just like physical collections, our digital lists maintain order and allow us to access, organize, and analyze items systematically.\n",
        "\n",
        "Let's start with a simple example from literary studies:"
      ]
    },
    {
      "cell_type": "code",
      "execution_count": null,
      "id": "e3be83ae",
      "metadata": {
        "id": "e3be83ae"
      },
      "outputs": [],
      "source": [
        "# Contemporary global artists working with digital media\n",
        "digital_artists = [\"Refik Anadol\", \"Zach Lieberman\", \"Lauren McCarthy\", \"Casey Reas\"]\n",
        "\n",
        "print(\"Contemporary Digital Artists:\")\n",
        "print(digital_artists)"
      ]
    },
    {
      "cell_type": "markdown",
      "id": "c5ac7602",
      "metadata": {
        "id": "c5ac7602"
      },
      "source": [
        "### Try it yourself:\n",
        "Create a list of your favorite podcasts, video games, or social media creators:"
      ]
    },
    {
      "cell_type": "code",
      "execution_count": null,
      "id": "cf004f9e",
      "metadata": {
        "id": "cf004f9e"
      },
      "outputs": [],
      "source": [
        "# Your turn: create a list related to your interests\n",
        "my_list = []  # Replace with your own list\n",
        "\n",
        "print(my_list)"
      ]
    },
    {
      "cell_type": "markdown",
      "id": "1d3e9dad",
      "metadata": {
        "id": "1d3e9dad"
      },
      "source": [
        "## Part 2: Accessing Information - How We Find What We're Looking For\n",
        "\n",
        "Just like finding a book on a library shelf, we can locate specific items in our lists. Python uses \"indexing\" - think of it like seat numbers or page numbers."
      ]
    },
    {
      "cell_type": "code",
      "execution_count": null,
      "id": "c83dc440",
      "metadata": {
        "id": "c83dc440"
      },
      "outputs": [],
      "source": [
        "# Social media platforms by launch year\n",
        "platforms = [\"Friendster (2002)\", \"MySpace (2003)\", \"Facebook (2004)\", \"Twitter (2006)\", \"Instagram (2010)\", \"TikTok (2016)\"]\n",
        "\n",
        "# Remember: Python starts counting from 0 (like ground floor = 0 in some countries)\n",
        "print(f\"First platform: {platforms[0]}\")\n",
        "print(f\"Third platform: {platforms[2]}\")\n",
        "print(f\"Most recent platform: {platforms[-1]}\")  # -1 gives us the last item"
      ]
    },
    {
      "cell_type": "markdown",
      "id": "8a1a9f45",
      "metadata": {
        "id": "8a1a9f45"
      },
      "source": [
        "### Discussion Question:\n",
        "Why might it matter that computers start counting from 0? How does this relate to how humans typically count and organize information?"
      ]
    },
    {
      "cell_type": "code",
      "execution_count": null,
      "id": "c5647070",
      "metadata": {
        "id": "c5647070"
      },
      "outputs": [],
      "source": [
        "# Try accessing different items from your list above\n",
        "# What happens if you try to access an index that doesn't exist?"
      ]
    },
    {
      "cell_type": "markdown",
      "id": "c0637e63",
      "metadata": {
        "id": "c0637e63"
      },
      "source": [
        "## Part 2.5: List Slicing - Extracting Portions of Collections\n",
        "\n",
        "Just as scholars might focus on specific chapters of a book, decades in a timeline, or particular regions in a geographic study, we often need to work with portions of our data collections rather than entire lists. List slicing is like creating focused excerpts from larger datasets.\n",
        "\n",
        "Think of slicing as creating targeted subcollections - perhaps you want to analyze only the first half of a century's literature, or examine the last few entries in a historical record, or study every third artifact in a museum collection.\n",
        "\n",
        "### The Anatomy of Slicing: [start:stop:step]\n",
        "\n",
        "List slicing uses the pattern `[start:stop:step]` where:\n",
        "- **start**: where to begin (included)\n",
        "- **stop**: where to end (excluded - like \"until\" rather than \"through\")\n",
        "- **step**: how many items to skip (default is 1)\n",
        "\n",
        "This flexible system allows us to extract exactly the data we need for analysis."
      ]
    },
    {
      "cell_type": "code",
      "execution_count": null,
      "id": "ca9760da",
      "metadata": {
        "id": "ca9760da"
      },
      "outputs": [],
      "source": [
        "# Let's work with a comprehensive list of music genres to practice slicing\n",
        "music_genres = [\"Hip-Hop\", \"K-Pop\", \"Reggaeton\", \"Afrobeats\", \"Lo-fi\", \"Bedroom Pop\", \"Drill\", \"Hyperpop\", \"Indie Rock\", \"Electronic\"]\n",
        "\n",
        "print(\"Full list of genres:\", music_genres)\n",
        "print(f\"Total genres: {len(music_genres)}\")\n",
        "\n",
        "# Basic slicing examples\n",
        "print(\"\\n--- Basic Slicing ---\")\n",
        "print(f\"First 3 genres: {music_genres[:3]}\")           # [:3] = from start to position 3\n",
        "print(f\"Last 3 genres: {music_genres[-3:]}\")           # [-3:] = last 3 items\n",
        "print(f\"Middle genres: {music_genres[3:7]}\")           # [3:7] = from position 3 to 7\n",
        "\n",
        "# Advanced slicing with steps\n",
        "print(\"\\n--- Advanced Slicing ---\")\n",
        "print(f\"Every other genre: {music_genres[::2]}\")       # [::2] = every 2nd item\n",
        "print(f\"Every 3rd genre: {music_genres[::3]}\")         # [::3] = every 3rd item\n",
        "print(f\"Reverse order: {music_genres[::-1]}\")          # [::-1] = reverse the list\n",
        "\n",
        "# Practical applications for digital humanities\n",
        "print(\"\\n--- Digital Humanities Applications ---\")\n",
        "print(f\"First half for analysis: {music_genres[:len(music_genres)//2]}\")\n",
        "print(f\"Recent trends (last 4): {music_genres[-4:]}\")\n",
        "print(f\"Sample for pilot study (every 3rd): {music_genres[::3]}\")"
      ]
    },
    {
      "cell_type": "markdown",
      "id": "8cca21e4",
      "metadata": {
        "id": "8cca21e4"
      },
      "source": [
        "### You Try: Practice List Slicing\n",
        "\n",
        "Now it's your turn to practice list slicing with contemporary data! This exercise uses real-world music streaming data to help you master the slicing techniques that are essential for digital humanities research.\n",
        "\n",
        "**Remember the slicing syntax**: `list[start:stop:step]`\n",
        "- **start**: where to begin (included)\n",
        "- **stop**: where to end (excluded)\n",
        "- **step**: how many items to skip (optional, default is 1)\n",
        "\n",
        "**Pro Tips:**\n",
        "- Use negative indices to count from the end: `[-1]` = last item, `[-3:]` = last 3 items\n",
        "- Leave start empty for \"from beginning\": `[:5]` = first 5 items\n",
        "- Leave stop empty for \"to end\": `[5:]` = from position 5 to end\n",
        "- Use `[::-1]` to reverse a list completely"
      ]
    },
    {
      "cell_type": "markdown",
      "id": "9aaf2150",
      "metadata": {
        "id": "9aaf2150"
      },
      "source": [
        "## Part 3: List Methods - Tools for Digital Scholarship\n",
        "\n",
        "Just as scholars have developed methods for analyzing texts and historical sources, Python provides us with methods for working with lists. These are like specialized tools in a researcher's toolkit."
      ]
    },
    {
      "cell_type": "markdown",
      "id": "9b5b7fa7",
      "metadata": {
        "id": "9b5b7fa7"
      },
      "source": [
        "## Part 3.5: Conditional Logic with Lists - Making Decisions About Data\n",
        "\n",
        "In humanities research, we constantly make decisions about our sources: Is this document from the right time period? Does this text contain the themes we're studying? Is this artifact from the culture we're examining?\n",
        "\n",
        "Conditional logic - using `if`, `elif`, and `else` statements - allows us to program these kinds of scholarly decisions. Combined with comparison and logical operators, we can systematically filter, categorize, and analyze our collections based on specific criteria.\n",
        "\n",
        "### The Building Blocks of Digital Decision-Making\n",
        "\n",
        "**Comparison Operators** - for evaluating relationships:\n",
        "- `==` (equal to), `!=` (not equal to)\n",
        "- `>`, `<`, `>=`, `<=` (greater than, less than, etc.)\n",
        "\n",
        "**Logical Operators** - for combining conditions:\n",
        "- `and` (both conditions must be true)\n",
        "- `or` (either condition can be true)  \n",
        "- `not` (reverses the condition)\n",
        "- `in`, `not in` (checking membership in collections)\n",
        "\n",
        "**String Methods for Text Analysis**:\n",
        "- `.startswith()`, `.endswith()` - for pattern matching\n",
        "- `.replace()` - for cleaning and standardizing data\n",
        "- `.strip()` - for removing unwanted whitespace\n",
        "\n",
        "These tools let us ask complex questions of our data: \"Show me all authors from the 20th century whose names start with 'V'\" or \"Find all documents that contain both 'democracy' and 'freedom' but not 'war'.\""
      ]
    },
    {
      "cell_type": "code",
      "execution_count": null,
      "id": "48772929",
      "metadata": {
        "id": "48772929"
      },
      "outputs": [],
      "source": [
        "# Contemporary music streaming data for practice\n",
        "# This could represent your personal Spotify playlist or trending songs\n",
        "\n",
        "streaming_data = [\n",
        "    \"Bad Bunny\", \"Taylor Swift\", \"BTS\", \"Olivia Rodrigo\", \"Doja Cat\",\n",
        "    \"The Weeknd\", \"Ariana Grande\", \"Drake\", \"Billie Eilish\", \"Harry Styles\",\n",
        "    \"Kendrick Lamar\", \"SZA\", \"Post Malone\", \"Dua Lipa\", \"Travis Scott\"\n",
        "]\n",
        "\n",
        "# Practice list slicing with this music data\n",
        "# Your tasks:\n",
        "# 1. Get the first 5 artists\n",
        "# 2. Get the last 3 artists\n",
        "# 3. Get every other artist (step by 2)\n",
        "# 4. Get artists from position 5 to 10\n",
        "# 5. Reverse the entire list\n",
        "\n",
        "# Write your slicing code here:\n",
        "\n",
        "# 1. First 5 artists:\n",
        "first_five =\n",
        "\n",
        "# 2. Last 3 artists:\n",
        "last_three =\n",
        "\n",
        "# 3. Every other artist:\n",
        "every_other =\n",
        "\n",
        "# 4. Artists from position 5 to 10:\n",
        "middle_section =\n",
        "\n",
        "# 5. Reverse the list:\n",
        "reversed_list =\n",
        "\n",
        "# Print your results:\n",
        "print(\"First 5:\", first_five)\n",
        "print(\"Last 3:\", last_three)\n",
        "print(\"Every other:\", every_other)\n",
        "print(\"Middle section:\", middle_section)\n",
        "print(\"Reversed:\", reversed_list)"
      ]
    },
    {
      "cell_type": "code",
      "execution_count": null,
      "id": "4f0c3207",
      "metadata": {
        "id": "4f0c3207"
      },
      "outputs": [],
      "source": [
        "# Let's work with a list of contemporary voices in literature and media\n",
        "creators = [\"Nnedi Okorafor\", \"Liu Cixin\", \"N.K. Jemisin\"]\n",
        "\n",
        "print(\"Original list:\", creators)\n",
        "print(f\"Number of creators: {len(creators)}\")"
      ]
    },
    {
      "cell_type": "markdown",
      "id": "39f52491",
      "metadata": {
        "id": "39f52491"
      },
      "source": [
        "### Adding to Our Collection - .append() and .extend()"
      ]
    },
    {
      "cell_type": "code",
      "execution_count": null,
      "id": "0e50ba15",
      "metadata": {
        "id": "0e50ba15"
      },
      "outputs": [],
      "source": [
        "# Adding one creator to our collection\n",
        "creators.append(\"Ocean Vuong\")\n",
        "print(\"After adding Ocean Vuong:\", creators)\n",
        "\n",
        "# Adding multiple creators at once\n",
        "new_creators = [\"Carmen Maria Machado\", \"Becky Chambers\"]\n",
        "creators.extend(new_creators)\n",
        "print(\"After extending with new creators:\", creators)"
      ]
    },
    {
      "cell_type": "markdown",
      "id": "102222ef",
      "metadata": {
        "id": "102222ef"
      },
      "source": [
        "### Finding Information - .index() and .count()"
      ]
    },
    {
      "cell_type": "code",
      "execution_count": null,
      "id": "52aadcd0",
      "metadata": {
        "id": "52aadcd0"
      },
      "outputs": [],
      "source": [
        "# Where in our list is a specific creator?\n",
        "okorafor_position = creators.index(\"Nnedi Okorafor\")\n",
        "print(f\"Nnedi Okorafor is at position: {okorafor_position}\")\n",
        "\n",
        "# Let's create a list with some repeated hashtags from social media analysis\n",
        "hashtags_in_dataset = [\"#BlackLivesMatter\", \"#MeToo\", \"#ClimateStrike\", \"#MeToo\", \"#solidarity\", \"#MeToo\", \"#BlackLivesMatter\"]\n",
        "metoo_count = hashtags_in_dataset.count(\"#MeToo\")\n",
        "print(f\"The hashtag '#MeToo' appears {metoo_count} times\")"
      ]
    },
    {
      "cell_type": "markdown",
      "id": "7831434e",
      "metadata": {
        "id": "7831434e"
      },
      "source": [
        "### Organizing Our Data - .sort() and .reverse()"
      ]
    },
    {
      "cell_type": "code",
      "execution_count": null,
      "id": "48601496",
      "metadata": {
        "id": "48601496"
      },
      "outputs": [],
      "source": [
        "# Let's organize our creators alphabetically\n",
        "print(\"Before sorting:\", creators)\n",
        "creators.sort()\n",
        "print(\"After sorting:\", creators)\n",
        "\n",
        "# Or in reverse order\n",
        "creators.reverse()\n",
        "print(\"After reversing:\", creators)"
      ]
    },
    {
      "cell_type": "markdown",
      "id": "e81b6183",
      "metadata": {
        "id": "e81b6183"
      },
      "source": [
        "### Try It Yourself: Building a Research Collection"
      ]
    },
    {
      "cell_type": "code",
      "execution_count": null,
      "id": "c98be76b",
      "metadata": {
        "id": "c98be76b"
      },
      "outputs": [],
      "source": [
        "# Create a list of research topics, video games, or digital culture phenomena\n",
        "research_topics = []\n",
        "\n",
        "# Add some initial topics\n",
        "\n",
        "\n",
        "# Add more topics using extend()\n",
        "\n",
        "\n",
        "# Sort your topics\n",
        "\n",
        "\n",
        "# Print the final organized list\n",
        "print(\"My research topics:\", research_topics)"
      ]
    },
    {
      "cell_type": "markdown",
      "id": "893b64ff",
      "metadata": {
        "id": "893b64ff"
      },
      "source": [
        "## Part 4: Loops - Systematic Analysis\n",
        "\n",
        "In traditional scholarship, we might read through a stack of documents one by one, taking notes on each. Loops let us do this systematically with digital collections. This is where \"counting\" becomes powerful analysis."
      ]
    },
    {
      "cell_type": "markdown",
      "id": "eac390d9",
      "metadata": {
        "id": "eac390d9"
      },
      "source": [
        "### The Simple For Loop - Processing Each Item"
      ]
    },
    {
      "cell_type": "code",
      "execution_count": null,
      "id": "aa107109",
      "metadata": {
        "id": "aa107109"
      },
      "outputs": [],
      "source": [
        "# Let's analyze a collection of digital cultural artifacts\n",
        "digital_artifacts = [\"Podcast episode\", \"Instagram story\", \"TikTok video\", \"Twitter thread\", \"YouTube video essay\"]\n",
        "\n",
        "print(\"Analyzing digital artifacts:\")\n",
        "for artifact in digital_artifacts:\n",
        "    print(f\"- Processing: {artifact}\")"
      ]
    },
    {
      "cell_type": "markdown",
      "id": "83393ab3",
      "metadata": {
        "id": "83393ab3"
      },
      "source": [
        "### Loops with Enumeration - Keeping Track of Position"
      ]
    },
    {
      "cell_type": "code",
      "execution_count": null,
      "id": "3a9bcf7a",
      "metadata": {
        "id": "3a9bcf7a"
      },
      "outputs": [],
      "source": [
        "# Sometimes we need to know both the item and its position\n",
        "video_sections = [\"Intro\", \"Hook\", \"Main Content\", \"Call to Action\", \"End Screen\"]\n",
        "\n",
        "print(\"Video Structure:\")\n",
        "for position, section in enumerate(video_sections, 1):  # Start counting from 1\n",
        "    print(f\"Section {position}: {section}\")"
      ]
    },
    {
      "cell_type": "markdown",
      "id": "ad0aaf03",
      "metadata": {
        "id": "ad0aaf03"
      },
      "source": [
        "### Conditional Analysis - Filtering Our Data"
      ]
    },
    {
      "cell_type": "code",
      "execution_count": 6,
      "id": "4ade8375",
      "metadata": {
        "id": "4ade8375",
        "outputId": "27eb8dde-9bf4-4085-d76c-936d6244aa5d",
        "colab": {
          "base_uri": "https://localhost:8080/"
        }
      },
      "outputs": [
        {
          "output_type": "stream",
          "name": "stdout",
          "text": [
            "Series with titles longer than 10 characters:\n",
            "- Stranger Things (15 characters)\n",
            "- The Queen's Gambit (18 characters)\n"
          ]
        }
      ],
      "source": [
        "# Let's find all the long titles in our collection\n",
        "netflix_series = [\n",
        "    \"Stranger Things\",\n",
        "    \"The Queen's Gambit\",\n",
        "    \"Squid Game\",\n",
        "    \"Wednesday\",\n",
        "    \"Bridgerton\"\n",
        "]\n",
        "\n",
        "print(\"Series with titles longer than 10 characters:\")\n",
        "for title in netflix_series:\n",
        "    if len(title) > 10:\n",
        "        print(f\"- {title} ({len(title)} characters)\")"
      ]
    },
    {
      "cell_type": "markdown",
      "id": "2c4abed2",
      "metadata": {
        "id": "2c4abed2"
      },
      "source": [
        "## Part 4.5: Building and Filtering Lists - Constructing New Collections\n",
        "\n",
        "One of the most powerful aspects of digital humanities work is the ability to create new collections from existing ones based on specific criteria. This is like a scholar going through a library's entire collection and creating a specialized bibliography of works that meet certain requirements.\n",
        "\n",
        "### The Pattern: Empty List + Loop + Conditional Append\n",
        "\n",
        "This fundamental pattern appears constantly in digital humanities research:\n",
        "1. Start with an empty list to hold our results\n",
        "2. Loop through our source collection\n",
        "3. Check each item against our criteria\n",
        "4. Add items that match to our new collection\n",
        "\n",
        "This approach allows us to:\n",
        "- Extract all works by female authors from a general literature list\n",
        "- Find all historical events from a specific century\n",
        "- Identify all artworks from a particular cultural movement\n",
        "- Clean datasets by removing incomplete or problematic entries\n",
        "\n",
        "### Data Cleaning in Digital Humanities\n",
        "\n",
        "Real-world cultural data is often messy. Historical records might have uncertain attributions marked with \"(?)\", incomplete information, or inconsistent formatting. Learning to systematically clean and standardize data is crucial for reliable analysis.\n",
        "\n",
        "This involves:\n",
        "- Removing unwanted characters or markers\n",
        "- Standardizing spelling and formatting\n",
        "- Handling missing or uncertain information\n",
        "- Creating consistent categories for analysis"
      ]
    },
    {
      "cell_type": "markdown",
      "id": "037cf224",
      "metadata": {
        "id": "037cf224"
      },
      "source": [
        "## Part 5: Counting and Being Counted - Digital Humanities Applications\n",
        "\n",
        "Now let's explore how these tools help us understand how people and ideas are represented in digital collections."
      ]
    },
    {
      "cell_type": "markdown",
      "id": "ba884e9b",
      "metadata": {
        "id": "ba884e9b"
      },
      "source": [
        "### Word Frequency Analysis"
      ]
    },
    {
      "cell_type": "code",
      "execution_count": null,
      "id": "80b2a838",
      "metadata": {
        "id": "80b2a838"
      },
      "outputs": [],
      "source": [
        "# A simple hashtag analysis - let's look at frequency in social media data\n",
        "# This could be from a viral Twitter thread, Instagram campaign, or TikTok trend\n",
        "social_media_tags = [\"#climate\", \"#action\", \"#justice\", \"#climate\", \"#equality\", \"#justice\", \"#climate\", \"#activism\"]\n",
        "\n",
        "print(\"Hashtag Frequency Analysis:\")\n",
        "unique_tags = []\n",
        "\n",
        "for tag in social_media_tags:\n",
        "    if tag not in unique_tags:\n",
        "        unique_tags.append(tag)\n",
        "        count = social_media_tags.count(tag)\n",
        "        print(f\"'{tag}' appears {count} times\")"
      ]
    },
    {
      "cell_type": "markdown",
      "id": "fd5a49f2",
      "metadata": {
        "id": "fd5a49f2"
      },
      "source": [
        "## Part 5.5: Advanced List Tools - Professional Digital Humanities Techniques\n",
        "\n",
        "As digital humanities projects grow in complexity, we need more sophisticated tools for managing and analyzing our collections. Python provides several advanced functions that make common research tasks more efficient and elegant.\n",
        "\n",
        "### enumerate() - Keeping Track of Position and Content\n",
        "\n",
        "When analyzing collections, we often need to know both what something is and where it appears. Think of a scholar who needs to cite not just a quotation, but its page number; or a curator who must track both an artifact and its catalog number.\n",
        "\n",
        "The `enumerate()` function provides a systematic way to track position alongside content, essential for:\n",
        "- Creating numbered bibliographies or catalogs\n",
        "- Tracking line numbers in text analysis\n",
        "- Maintaining source citations with positional references\n",
        "- Creating structured reports with sequential numbering\n",
        "\n",
        "### zip() - Combining Related Collections\n",
        "\n",
        "In digital humanities, we often work with related but separate datasets - like having lists of authors, publication dates, and genres that all correspond to the same books. The `zip()` function allows us to work with these parallel collections simultaneously.\n",
        "\n",
        "This is particularly valuable for:\n",
        "- Combining biographical data (names, birth years, nationalities)\n",
        "- Linking texts with their metadata (titles, authors, publication info)\n",
        "- Connecting artifacts with their provenance information\n",
        "- Merging historical events with their dates and locations\n",
        "\n",
        "### Counter - Systematic Frequency Analysis\n",
        "\n",
        "The `Counter` tool from Python's collections library automates one of the most common tasks in digital humanities: counting how often things appear. Instead of manually tallying occurrences, `Counter` provides professional-grade frequency analysis.\n",
        "\n",
        "This is essential for:\n",
        "- Word frequency studies in literary analysis\n",
        "- Tracking recurring themes across collections\n",
        "- Analyzing demographic patterns in historical data\n",
        "- Identifying the most and least common elements in any dataset\n",
        "\n",
        "### List Comprehensions - Elegant Filtering and Transformation\n",
        "\n",
        "List comprehensions provide a concise, readable way to create new collections from existing ones. They're like writing a mathematical set notation for data processing - expressing complex filtering or transformation operations in a single, clear statement.\n",
        "\n",
        "This advanced technique allows experienced practitioners to:\n",
        "- Create filtered collections more efficiently\n",
        "- Transform data while applying conditions\n",
        "- Write more readable and maintainable code\n",
        "- Combine multiple operations into elegant one-liners"
      ]
    },
    {
      "cell_type": "markdown",
      "id": "b6a47a4b",
      "metadata": {
        "id": "b6a47a4b"
      },
      "source": [
        "### Analyzing Representation in Collections"
      ]
    },
    {
      "cell_type": "code",
      "execution_count": null,
      "id": "a387c9b3",
      "metadata": {
        "id": "a387c9b3"
      },
      "outputs": [],
      "source": [
        "# Let's analyze representation in popular digital content creators\n",
        "content_creators = [\n",
        "    (\"Contrapoints\", \"philosophy/politics\", \"YouTube\"),\n",
        "    (\"Hasan Piker\", \"politics/gaming\", \"Twitch\"),\n",
        "    (\"Keffals\", \"activism/gaming\", \"Twitch\"),\n",
        "    (\"Philosophy Tube\", \"philosophy/theater\", \"YouTube\"),\n",
        "    (\"Lindsay Ellis\", \"media criticism\", \"YouTube\"),\n",
        "    (\"Kat Blaque\", \"social justice\", \"YouTube\")\n",
        "]\n",
        "\n",
        "youtube_count = 0\n",
        "twitch_count = 0\n",
        "\n",
        "print(\"Analyzing platform representation in our creator list:\")\n",
        "for creator, category, platform in content_creators:\n",
        "    print(f\"- {creator} ({category}) on {platform}\")\n",
        "    if platform == \"YouTube\":\n",
        "        youtube_count += 1\n",
        "    elif platform == \"Twitch\":\n",
        "        twitch_count += 1\n",
        "\n",
        "total_creators = len(content_creators)\n",
        "print(f\"\\nSummary:\")\n",
        "print(f\"Total creators: {total_creators}\")\n",
        "print(f\"YouTube creators: {youtube_count} ({youtube_count/total_creators*100:.1f}%)\")\n",
        "print(f\"Twitch creators: {twitch_count} ({twitch_count/total_creators*100:.1f}%)\")"
      ]
    },
    {
      "cell_type": "markdown",
      "id": "43e6270f",
      "metadata": {
        "id": "43e6270f"
      },
      "source": [
        "## Reflection Questions\n",
        "\n",
        "As we wrap up our exploration of lists and loops, consider these questions:\n",
        "\n",
        "1. **Power of Counting**: How does systematic counting change the way we understand collections of cultural materials?\n",
        "\n",
        "2. **Representation**: When we organize and count cultural data, what might we be missing? What biases might be built into our categories?\n",
        "\n",
        "3. **Scale**: How does computational analysis allow us to work with collections that would be impossible to analyze manually?\n",
        "\n",
        "4. **Human vs. Machine**: What kinds of insights can we gain from computational counting that human reading might miss? What might human analysis reveal that counting cannot?\n",
        "\n",
        "Write your thoughts in the cell below:"
      ]
    },
    {
      "cell_type": "markdown",
      "id": "d8edd7b8",
      "metadata": {
        "id": "d8edd7b8"
      },
      "source": [
        "### Your Reflections:\n",
        "\n",
        "(Double-click this cell to edit and write your thoughts)\n"
      ]
    },
    {
      "cell_type": "markdown",
      "id": "50048ff4",
      "metadata": {
        "id": "50048ff4"
      },
      "source": [
        "## Key Takeaways\n",
        "\n",
        "Today we've learned:\n",
        "\n",
        "- **Lists** help us organize collections of data systematically\n",
        "- **List indexing and slicing** allow us to extract specific portions of our collections for focused analysis\n",
        "- **List methods** provide tools for adding, organizing, and analyzing our collections\n",
        "- **Conditional logic** enables us to make systematic decisions about our data using comparison and logical operators\n",
        "- **Loops** allow us to process each item in a collection systematically\n",
        "- **Building and filtering lists** lets us create new collections based on specific research criteria\n",
        "- **Advanced tools** like `enumerate()`, `zip()`, and `Counter` provide professional-grade data analysis capabilities\n",
        "- **List comprehensions** offer elegant ways to filter and transform collections\n",
        "- **Data cleaning techniques** prepare messy real-world cultural data for reliable analysis\n",
        "- **Counting and analysis** can reveal patterns in cultural and historical data\n",
        "- **Critical thinking** about data representation is essential in digital humanities\n",
        "\n",
        "These are fundamental building blocks for digital humanities research. As you continue your studies, you'll use these concepts to analyze texts, examine historical patterns, and explore cultural collections in new ways.\n",
        "\n",
        "Remember: every time we count, we're making choices about what matters and how to categorize the world. In digital humanities, being conscious of these choices is just as important as the technical skills themselves. The tools we've learned today will prepare you for the specific exercises in Walsh's \"Intro to Cultural Analytics\" textbook, while maintaining the critical perspective essential to humanities scholarship."
      ]
    }
  ],
  "metadata": {
    "language_info": {
      "name": "python"
    },
    "colab": {
      "provenance": [],
      "toc_visible": true
    },
    "kernelspec": {
      "name": "python3",
      "display_name": "Python 3"
    }
  },
  "nbformat": 4,
  "nbformat_minor": 5
}