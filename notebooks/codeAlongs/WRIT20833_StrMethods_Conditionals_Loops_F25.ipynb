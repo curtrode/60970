{
  "nbformat": 4,
  "nbformat_minor": 0,
  "metadata": {
    "colab": {
      "provenance": [],
      "include_colab_link": true
    },
    "kernelspec": {
      "name": "python3",
      "display_name": "Python 3"
    },
    "language_info": {
      "name": "python"
    }
  },
  "cells": [
    {
      "cell_type": "markdown",
      "metadata": {
        "id": "view-in-github",
        "colab_type": "text"
      },
      "source": [
        "<a href=\"https://colab.research.google.com/github/curtrode/60970/blob/main/notebooks/codeAlongs/WRIT20833_StrMethods_Conditionals_Loops_F25.ipynb\" target=\"_parent\"><img src=\"https://colab.research.google.com/assets/colab-badge.svg\" alt=\"Open In Colab\"/></a>"
      ]
    },
    {
      "cell_type": "code",
      "execution_count": null,
      "metadata": {
        "id": "KNUy4sr-lWvR"
      },
      "outputs": [],
      "source": []
    },
    {
      "cell_type": "markdown",
      "metadata": {
        "id": "srkwwlVadzrh"
      },
      "source": [
        "# String Methods, Comparisons, Conditionals, Lists, and Loops\n"
      ]
    },
    {
      "cell_type": "markdown",
      "metadata": {
        "id": "V8gCSFYVhWYa"
      },
      "source": [
        "## String Methods\n",
        "https://melaniewalsh.github.io/Intro-Cultural-Analytics/02-Python/06-String-Methods.html"
      ]
    },
    {
      "cell_type": "markdown",
      "metadata": {
        "id": "HBKqL3WEiHxZ"
      },
      "source": [
        "### Read in String (via text file)"
      ]
    },
    {
      "cell_type": "code",
      "source": [
        "from google.colab import drive\n",
        "drive.mount('/content/drive')"
      ],
      "metadata": {
        "id": "jcoaN0izGqLt"
      },
      "execution_count": null,
      "outputs": []
    },
    {
      "cell_type": "code",
      "execution_count": null,
      "metadata": {
        "id": "ixS721neihSP"
      },
      "outputs": [],
      "source": [
        "# read in Kafka's text file\n",
        "\n",
        "sample_text = open(\"/content/drive/MyDrive/WRIT20833/Data/20833_Kafka_F22.txt\", encoding=\"utf-8\").read()"
      ]
    },
    {
      "cell_type": "code",
      "execution_count": null,
      "metadata": {
        "id": "WM2zLM6aioiG"
      },
      "outputs": [],
      "source": [
        "print(sample_text)"
      ]
    },
    {
      "cell_type": "code",
      "execution_count": null,
      "metadata": {
        "id": "cKdTHuc9I0BI"
      },
      "outputs": [],
      "source": [
        "type(sample_text)"
      ]
    },
    {
      "cell_type": "markdown",
      "metadata": {
        "id": "0He7l_qbrpPJ"
      },
      "source": [
        "### Extract Parts of Strings"
      ]
    },
    {
      "cell_type": "markdown",
      "metadata": {
        "id": "wLps8kyAiPWH"
      },
      "source": [
        "#### Index"
      ]
    },
    {
      "cell_type": "code",
      "execution_count": null,
      "metadata": {
        "id": "9hLqtx1JiScv"
      },
      "outputs": [],
      "source": [
        "# Practice Index\n",
        "\n",
        "#print(sample_text[-1])\n",
        "#print(sample_text[-2])\n",
        "print(sample_text[-4])\n",
        "print(sample_text[-5])\n"
      ]
    },
    {
      "cell_type": "markdown",
      "metadata": {
        "id": "HcSPVexEiSzy"
      },
      "source": [
        "#### Slice"
      ]
    },
    {
      "cell_type": "code",
      "execution_count": null,
      "metadata": {
        "id": "j7F8Gjk7i9Sc"
      },
      "outputs": [],
      "source": [
        "# Practice slice\n",
        "\n",
        "# logic of the slicing syntax is \"string[starting postion : number of steps]\"\n",
        "\n",
        "\n",
        "sample_text[:121] # leaving the starting position blank defaults to 0.\n"
      ]
    },
    {
      "cell_type": "code",
      "execution_count": null,
      "metadata": {
        "id": "fWH2r8bkjGZm"
      },
      "outputs": [],
      "source": [
        "# trying again from different starting position.\n",
        "\n",
        "sample_text[121:250]"
      ]
    },
    {
      "cell_type": "code",
      "execution_count": null,
      "metadata": {
        "id": "9fs5tGWnjaHN"
      },
      "outputs": [],
      "source": [
        "# create and assign value to first_line variable\n",
        "\n",
        "first_sentence = sample_text[:121]\n",
        "print(first_sentence)"
      ]
    },
    {
      "cell_type": "code",
      "execution_count": null,
      "metadata": {
        "id": "asWN2mmEMEvK"
      },
      "outputs": [],
      "source": [
        "second_sentence = sample_text[121:250]\n",
        "print(second_sentence)"
      ]
    },
    {
      "cell_type": "markdown",
      "metadata": {
        "id": "g0EcBJREhn2Z"
      },
      "source": [
        "### Replace words"
      ]
    },
    {
      "cell_type": "code",
      "execution_count": null,
      "metadata": {
        "id": "5YaYxMfhj4U3"
      },
      "outputs": [],
      "source": [
        "# replace words\n",
        "\n",
        "print(first_sentence.replace(\"morning\" , \"fateful evening\"))\n",
        "\n",
        "#first_sentence = first_sentence.replace(\"morning\" , \"fateful evening\")"
      ]
    },
    {
      "cell_type": "code",
      "execution_count": null,
      "metadata": {
        "id": "JhNH0ZBkj8LI"
      },
      "outputs": [],
      "source": [
        "# replace words\n",
        "\n",
        "print(first_sentence.replace('vermin' , 'hamburger'))"
      ]
    },
    {
      "cell_type": "code",
      "execution_count": null,
      "metadata": {
        "id": "eP1zQmvttb2g"
      },
      "outputs": [],
      "source": [
        "# Get goofy with it\n",
        "\n",
        "print(first_sentence.replace(' ' , ' (OMFG I am a bug) '))"
      ]
    },
    {
      "cell_type": "code",
      "execution_count": null,
      "metadata": {
        "id": "eNt4S-4jOk2d"
      },
      "outputs": [],
      "source": [
        "print(second_sentence.replace('\\n' , ' '))"
      ]
    },
    {
      "cell_type": "markdown",
      "metadata": {
        "id": "6nB79LXShqVX"
      },
      "source": [
        "### Uppercase / Lowercase"
      ]
    },
    {
      "cell_type": "code",
      "execution_count": null,
      "metadata": {
        "id": "5NNOIz4kkJyC"
      },
      "outputs": [],
      "source": [
        "print(first_sentence.upper())\n",
        "print(' ') # what's the point of including this line?\n",
        "print(first_sentence.lower())"
      ]
    },
    {
      "cell_type": "markdown",
      "metadata": {
        "id": "uyrvT2kPhy4o"
      },
      "source": [
        "### Split String by Delimiter"
      ]
    },
    {
      "cell_type": "code",
      "execution_count": null,
      "metadata": {
        "id": "YguppQNhhZUU"
      },
      "outputs": [],
      "source": [
        "first_sentence.split() # splits line into words using the space between words as delimiter"
      ]
    },
    {
      "cell_type": "code",
      "execution_count": null,
      "metadata": {
        "id": "ZHWt5hP_Qmi7"
      },
      "outputs": [],
      "source": [
        "new_first = first_sentence.split()\n",
        "\n",
        "print(new_first)"
      ]
    },
    {
      "cell_type": "code",
      "execution_count": null,
      "metadata": {
        "id": "QvDRgVfKQ4yT"
      },
      "outputs": [],
      "source": [
        "type(new_first)"
      ]
    },
    {
      "cell_type": "code",
      "execution_count": null,
      "metadata": {
        "id": "ssdpY4zDk7cF"
      },
      "outputs": [],
      "source": [
        "first_sentence.split(\"dreams\") # explain what's happening here"
      ]
    },
    {
      "cell_type": "markdown",
      "metadata": {
        "id": "pgY_a7uCh6nA"
      },
      "source": [
        "###Join Strings by Delimiter"
      ]
    },
    {
      "cell_type": "code",
      "execution_count": null,
      "metadata": {
        "id": "_FV5aCOXlKUT"
      },
      "outputs": [],
      "source": [
        "kafka_split_words = first_sentence.split() # we assign the results of a string operation to a variable\n",
        "kafka_split_words"
      ]
    },
    {
      "cell_type": "code",
      "execution_count": null,
      "metadata": {
        "id": "TLwqz0dslRIJ"
      },
      "outputs": [],
      "source": [
        "type(kafka_split_words) #notice the different data type that results"
      ]
    },
    {
      "cell_type": "code",
      "execution_count": null,
      "metadata": {
        "id": "YvipmmNmlruS"
      },
      "outputs": [],
      "source": [
        "\"Football\".join(kafka_split_words) # what do you expect to happen here?"
      ]
    },
    {
      "cell_type": "code",
      "execution_count": null,
      "metadata": {
        "id": "um9z9Po8l74b"
      },
      "outputs": [],
      "source": [
        "\" \".join(kafka_split_words) # what should happen here?"
      ]
    },
    {
      "cell_type": "code",
      "execution_count": null,
      "metadata": {
        "id": "WKA3G4V7A3yg"
      },
      "outputs": [],
      "source": [
        "first_line\n"
      ]
    },
    {
      "cell_type": "code",
      "execution_count": null,
      "metadata": {
        "id": "yXhrkLHyA_uJ"
      },
      "outputs": [],
      "source": [
        "#first_line.startswith('O')\n",
        "\n",
        "list = []\n",
        "\n",
        "for letter in first_line:\n",
        "  if letter == \"e\":\n",
        "    list.append(letter)\n",
        "\n",
        "  #else:\n",
        "  #  continue\n",
        "\n",
        "print(len(list))\n",
        "\n",
        "\n"
      ]
    },
    {
      "cell_type": "markdown",
      "metadata": {
        "id": "ccsFe-EFj1av"
      },
      "source": [
        "##Comparisons & Conditionals\n",
        "\n",
        "\"Writing Python code is a lot like writing a list of detailed instructions to the computer. Most of the time you will be asking the computer to perform certain tasks if certain conditions are met\" (Walsh)"
      ]
    },
    {
      "cell_type": "markdown",
      "metadata": {
        "id": "mvEa1MEDj9Fm"
      },
      "source": [
        "#### Comparisons"
      ]
    },
    {
      "cell_type": "markdown",
      "metadata": {
        "id": "T5UnJ_72lmxN"
      },
      "source": [
        "##### Greater Than (>) & Less Than (<)"
      ]
    },
    {
      "cell_type": "code",
      "execution_count": null,
      "metadata": {
        "id": "gW71O_Wph6ga"
      },
      "outputs": [],
      "source": [
        "# indicated with traditional math symbol \">\"\n",
        "\n",
        "a = 3.14\n",
        "b = 4.14\n",
        "\n",
        "b > a # will produce a Boolean value"
      ]
    },
    {
      "cell_type": "markdown",
      "metadata": {
        "id": "3Nhk2Z90lyBp"
      },
      "source": [
        "##### Not Equals (!=)"
      ]
    },
    {
      "cell_type": "code",
      "execution_count": null,
      "metadata": {
        "id": "A_TuGgSul-3a"
      },
      "outputs": [],
      "source": [
        "# indicated with symbol \"!=\"\n",
        "\n",
        "b != a # will produce a Boolean value"
      ]
    },
    {
      "cell_type": "markdown",
      "metadata": {
        "id": "sdNvKBjCl_X_"
      },
      "source": [
        "##### And"
      ]
    },
    {
      "cell_type": "code",
      "execution_count": null,
      "metadata": {
        "id": "eneuwQsPmD_8"
      },
      "outputs": [],
      "source": [
        "# indicated with the word \"and.\" Both conditions need to be true for the boolean answer to be True\n",
        "\n",
        "person1 = 30\n",
        "person2 = 30.5\n",
        "\n",
        "person1 >= 30 and person2 > 40"
      ]
    },
    {
      "cell_type": "markdown",
      "metadata": {
        "id": "MLOyHDopmEmC"
      },
      "source": [
        "##### Or"
      ]
    },
    {
      "cell_type": "code",
      "execution_count": null,
      "metadata": {
        "id": "RUP1BTH7mLz_"
      },
      "outputs": [],
      "source": [
        "# indicated with the word \"or.\" Only one of the conditions need to be true for the boolean answer to be True\n",
        "\n",
        "person1 > 40 or person2 > 30\n"
      ]
    },
    {
      "cell_type": "markdown",
      "metadata": {
        "id": "YvSg8003j_y7"
      },
      "source": [
        "## Conditionals"
      ]
    },
    {
      "cell_type": "markdown",
      "metadata": {
        "id": "YVa3WRdtoA2u"
      },
      "source": [
        "##### If Statements"
      ]
    },
    {
      "cell_type": "code",
      "execution_count": null,
      "metadata": {
        "id": "gtBVIfYckGyb"
      },
      "outputs": [],
      "source": [
        "TCU = 40\n",
        "SMU = 170\n",
        "\n",
        "if TCU >= SMU: # : means \"please do the following\"\n",
        "  print(\"TCU rocks\")"
      ]
    },
    {
      "cell_type": "markdown",
      "metadata": {
        "id": "78JLgEtfkK3s"
      },
      "source": [
        "##### Else Statements"
      ]
    },
    {
      "cell_type": "code",
      "execution_count": null,
      "metadata": {
        "id": "8WeU4-yMkKJo",
        "collapsed": true
      },
      "outputs": [],
      "source": [
        "TCU = \"48\"\n",
        "SMU = \"481\"\n",
        "\n",
        "if TCU >= SMU:\n",
        "  print(\"TCU rocks\")\n",
        "\n",
        "else:\n",
        "  print(\"Better luck next year\")"
      ]
    },
    {
      "cell_type": "code",
      "source": [
        "type(TCU) == int"
      ],
      "metadata": {
        "id": "Y6hCgwIXJdgz"
      },
      "execution_count": null,
      "outputs": []
    },
    {
      "cell_type": "code",
      "execution_count": null,
      "metadata": {
        "id": "9OoWbvJlx38x"
      },
      "outputs": [],
      "source": [
        "# another quick example that creates a function to determine whether or not a number is even or odd\n",
        "\n",
        "def even(number):\n",
        "  if number%2 == 0:  #remember that the % operator determines the remainder of x/y\n",
        "    print(\"you have yourself an even number there\")\n",
        "\n",
        "  else:\n",
        "    print(\"that looks odd to me\")"
      ]
    },
    {
      "cell_type": "code",
      "source": [
        "even(781)"
      ],
      "metadata": {
        "id": "qar97_VBYmGw"
      },
      "execution_count": null,
      "outputs": []
    },
    {
      "cell_type": "code",
      "execution_count": null,
      "metadata": {
        "id": "2owy0sgsZuyv"
      },
      "outputs": [],
      "source": [
        "even(4325262362631)"
      ]
    },
    {
      "cell_type": "code",
      "execution_count": null,
      "metadata": {
        "id": "ij1DEM4hI8Vm"
      },
      "outputs": [],
      "source": [
        "def math_machine(number):\n",
        "  if number % 2 == 0:\n",
        "    print(\"The number \" + str(number) + \" is even. It's square is \" + str(number**2)+ \".\")\n",
        "\n",
        "  else:\n",
        "    print(\"The number \" + str(number) + \" is not even. BTW, I hate math\")"
      ]
    },
    {
      "cell_type": "code",
      "execution_count": null,
      "metadata": {
        "id": "REqyff80JnJP"
      },
      "outputs": [],
      "source": [
        "math_machine(21)"
      ]
    },
    {
      "cell_type": "markdown",
      "metadata": {
        "id": "hpuij4BgkQ5w"
      },
      "source": [
        "##### Elif Statements"
      ]
    },
    {
      "cell_type": "code",
      "execution_count": null,
      "metadata": {
        "id": "bkjTk7ACkUVV"
      },
      "outputs": [],
      "source": [
        "TCU = 40\n",
        "UNC = 40\n",
        "\n",
        "if TCU > UNC:\n",
        "  print(\"TCU rocks\")\n",
        "\n",
        "elif TCU == UNC:\n",
        "  print(\"Time for OT\")\n",
        "\n",
        "else:\n",
        "  print(\"Better luck next year\")"
      ]
    },
    {
      "cell_type": "code",
      "source": [
        "owns_purple_shoes = True\n",
        "\n",
        "day = \"Thursday\"\n",
        "\n",
        "gameday = False\n",
        "\n",
        "if day == \"Friday\":\n",
        "  print(\"wear your shoes!\")\n",
        "\n",
        "elif gameday == True:\n",
        "  print(\"definitely wear those shoes\")\n",
        "\n",
        "else:\n",
        "  print(\"go back to your closet\")\n",
        "\n"
      ],
      "metadata": {
        "colab": {
          "base_uri": "https://localhost:8080/"
        },
        "id": "bU7iEMBidXv-",
        "outputId": "1d80fbdd-c68b-486b-b993-4527f0138aba"
      },
      "execution_count": 3,
      "outputs": [
        {
          "output_type": "stream",
          "name": "stdout",
          "text": [
            "go back to your closet\n"
          ]
        }
      ]
    },
    {
      "cell_type": "markdown",
      "metadata": {
        "id": "__8_75oMpZJd"
      },
      "source": [
        "#### Exercises\n"
      ]
    },
    {
      "cell_type": "code",
      "source": [
        "a = \"Hello \"\n",
        "b = \"World \"\n",
        "\n",
        "if type(a) == type(b):\n",
        "  print(a + b)\n",
        "else:\n",
        "  print(\"sorry, can't\")"
      ],
      "metadata": {
        "id": "Im0MDiu_PmSY"
      },
      "execution_count": null,
      "outputs": []
    },
    {
      "cell_type": "code",
      "execution_count": null,
      "metadata": {
        "id": "7bE9pVjPpchs"
      },
      "outputs": [],
      "source": [
        "numbers = [1,2,3,4,5]\n",
        "\n",
        "for item in numbers:\n",
        "  if item % 2 == 0:\n",
        "    squared = item * item\n",
        "    print(f\"The number {item} is even. {item} * {item} = {squared}\")\n",
        "  else:\n",
        "    print(f\"I'm at a loss for what to do with the odd numbers like {item}\")"
      ]
    },
    {
      "cell_type": "markdown",
      "metadata": {
        "id": "ek6pfhmCrybI"
      },
      "source": [
        "## Lists & Loops"
      ]
    },
    {
      "cell_type": "markdown",
      "metadata": {
        "id": "9IHu_bGesA1n"
      },
      "source": [
        "### Lists"
      ]
    },
    {
      "cell_type": "code",
      "execution_count": null,
      "metadata": {
        "id": "MSJmOP5az69L"
      },
      "outputs": [],
      "source": [
        "# After a point, using only individual variables to manage your data is impractical.\n",
        "# One common way to organize and collect the data of several similar variables is through a list.\n",
        "\n",
        "age1 = 30\n",
        "\n",
        "age2 = 15\n",
        "\n",
        "age3 = 56\n",
        "\n",
        "age4 = 23\n",
        "\n",
        "age = [30, 15, 56, 23] #here, the variable \"age\" has been assigned, not a single value, but a collection of values\n",
        "\n",
        "print(age)\n",
        "type(age)\n"
      ]
    },
    {
      "cell_type": "markdown",
      "metadata": {
        "id": "_ybf1aArscq5"
      },
      "source": [
        "#### Index"
      ]
    },
    {
      "cell_type": "code",
      "execution_count": null,
      "metadata": {
        "id": "tHXbVjOgsFQA"
      },
      "outputs": [],
      "source": [
        "# you can index lists like you can index strings\n",
        "\n",
        "age = [30, 15, 56, 23]\n",
        "\n",
        "print(age[0])\n",
        "print(age[3])\n",
        "print(age[-1])\n",
        "\n",
        "\n"
      ]
    },
    {
      "cell_type": "markdown",
      "metadata": {
        "id": "_OWnJdxssesk"
      },
      "source": [
        "#### Slice"
      ]
    },
    {
      "cell_type": "code",
      "execution_count": null,
      "metadata": {
        "id": "Zxnkn4GasQn3"
      },
      "outputs": [],
      "source": [
        "print(age[0:2]) # remember, the syntax is start at index 0 and take two steps forward"
      ]
    },
    {
      "cell_type": "markdown",
      "metadata": {
        "id": "d0nfuYd9slg5"
      },
      "source": [
        "### List Methods"
      ]
    },
    {
      "cell_type": "markdown",
      "metadata": {
        "id": "x1_Rf3eW3Pzt"
      },
      "source": [
        "#### Add Items to List"
      ]
    },
    {
      "cell_type": "code",
      "execution_count": null,
      "metadata": {
        "id": "JAv5CzsasugB"
      },
      "outputs": [],
      "source": [
        "age"
      ]
    },
    {
      "cell_type": "code",
      "execution_count": null,
      "metadata": {
        "id": "Jg8QvxKI3fEN"
      },
      "outputs": [],
      "source": [
        "age.append(203)\n",
        "age #note this does revise the content of the list."
      ]
    },
    {
      "cell_type": "code",
      "execution_count": null,
      "metadata": {
        "id": "mAPoJ1K5nsYS"
      },
      "outputs": [],
      "source": [
        "age"
      ]
    },
    {
      "cell_type": "code",
      "execution_count": null,
      "metadata": {
        "id": "XP-p6pLN7ejU"
      },
      "outputs": [],
      "source": [
        "age.remove(15)\n",
        "age #note this does revise the content of the list."
      ]
    },
    {
      "cell_type": "markdown",
      "metadata": {
        "id": "5t3cQnKM3XRG"
      },
      "source": [
        "#### Sort List"
      ]
    },
    {
      "cell_type": "code",
      "execution_count": null,
      "metadata": {
        "id": "QVzJHaQp3gdI"
      },
      "outputs": [],
      "source": [
        "new_age = [1,15,37,25,89, 2, 45, 21]\n",
        "\n",
        "new_age.sort(reverse=True)\n",
        "new_age"
      ]
    },
    {
      "cell_type": "markdown",
      "metadata": {
        "id": "9_koCt0F3ZxK"
      },
      "source": [
        "####Extend List with Another List"
      ]
    },
    {
      "cell_type": "code",
      "execution_count": null,
      "metadata": {
        "id": "BvUJFsf83hoR"
      },
      "outputs": [],
      "source": [
        "years = [1966, 1961, 1957]\n",
        "\n",
        "names = [\"Frank\" , \"Linda\" , \"Tony\"]\n",
        "\n",
        "years.extend(names)\n",
        "\n",
        "print(years)\n",
        "\n",
        "# It's clearly possible, but I believe a best practice in Python is to not mix data types in a single list.\n",
        "# If you have multiple data types to associate with each other, it's better to use dictionaries, which will get to\n",
        "# next week."
      ]
    },
    {
      "cell_type": "markdown",
      "metadata": {
        "id": "9mi0ymghsu_8"
      },
      "source": [
        "###For Loops\n"
      ]
    },
    {
      "cell_type": "code",
      "execution_count": null,
      "metadata": {
        "id": "v8AC2pf_szOd"
      },
      "outputs": [],
      "source": [
        "\"\"\"\n",
        "A basic basic for loop will consist of two lines:\n",
        "\n",
        "On the first line, you type the English word \"for,\" a new variable name for each item in the list, the English word\n",
        "\"in,\" the name of the list, and a colon (:)\n",
        "\n",
        "On the second line, you indent and write an instruction or “statement” to be completed for each item in the list\n",
        "\"\"\"\n",
        "\n",
        "\n",
        "names = [\"Frank\" , \"Linda\" , \"Tony\" , \"Michelle\"]\n",
        "\n",
        "for name in names:\n",
        "    print(f\"Person's name is {name}\")"
      ]
    },
    {
      "cell_type": "code",
      "execution_count": null,
      "metadata": {
        "id": "TuBMRpSttKS4"
      },
      "outputs": [],
      "source": [
        "years = [1966, 1961, 1957, 2002]\n",
        "\n",
        "for year in years:\n",
        "  print(year+85)"
      ]
    },
    {
      "cell_type": "code",
      "execution_count": null,
      "metadata": {
        "id": "ffKwMbBXFfaW"
      },
      "outputs": [],
      "source": [
        "years"
      ]
    },
    {
      "cell_type": "code",
      "execution_count": null,
      "metadata": {
        "id": "F7a7HNcMBUZL"
      },
      "outputs": [],
      "source": [
        "years = [1966, 1961, 1957, 1969, 1995, 1997]\n",
        "\n",
        "for year in years:\n",
        "  if year > 1964 and year <= 1980:\n",
        "    print(f\"{year}: Firmly GenX, so chill\")\n",
        "  elif year > 1980 and year < 1997:\n",
        "    print(f\"{year}: Def a Millenial\")\n",
        "  elif year >= 1997:\n",
        "    print(f\"{year}: GenZ or younger\")\n",
        "  else:\n",
        "    print(f\"{year}: Possible Boomer Alert!!!!\")"
      ]
    },
    {
      "cell_type": "code",
      "execution_count": null,
      "metadata": {
        "id": "PqkBm5r8u3JN"
      },
      "outputs": [],
      "source": [
        "# Landen's example\n",
        "\n",
        "foods = ['Mexican', 'Barbeque','Chinese','Soul Food']\n",
        "\n",
        "for i in foods:\n",
        "  if i == 'Mexican':\n",
        "    print(f\"{i} is my Favorite\")\n",
        "  elif i == 'Barbeque':\n",
        "    print(f\"{i} is my second favorite\")\n",
        "  else:\n",
        "    print(f\"{i} is still great\")"
      ]
    }
  ]
}