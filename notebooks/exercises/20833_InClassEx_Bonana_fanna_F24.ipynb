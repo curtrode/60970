{
  "nbformat": 4,
  "nbformat_minor": 0,
  "metadata": {
    "colab": {
      "provenance": [],
      "include_colab_link": true
    },
    "kernelspec": {
      "name": "python3",
      "display_name": "Python 3"
    },
    "language_info": {
      "name": "python"
    }
  },
  "cells": [
    {
      "cell_type": "markdown",
      "metadata": {
        "id": "view-in-github",
        "colab_type": "text"
      },
      "source": [
        "<a href=\"https://colab.research.google.com/github/curtrode/60970/blob/main/notebooks/exercises/20833_InClassEx_Bonana_fanna_F24.ipynb\" target=\"_parent\"><img src=\"https://colab.research.google.com/assets/colab-badge.svg\" alt=\"Open In Colab\"/></a>"
      ]
    },
    {
      "cell_type": "markdown",
      "source": [
        "#In-Class Exercise: Dictionaries (Bonana-fanna)\n",
        "\n",
        "To create an editable version, go to **File** > **Save a Copy in Drive**\n",
        "\n",
        "**General Guidelines**\n",
        "\n",
        "> Work on the following exercises in groups of 2 or 3.&nbsp;\n",
        "\n",
        "> Before you get started coding, look at Practice 1. Have a short conversation to determine the person least confident in terms of their Python skills (who looks at the prompt and says \"I'm not sure what they're asking me to do\"?)\n",
        "\n",
        "> That person (the least confident group member) is the coder.\n",
        "\n",
        "> The rest of the group (the more confident members) \"writes\" the code by telling the coder what to type.&nbsp;\n",
        "\n",
        "**Practice 1**\n",
        "\n",
        "Write a function that changes this list so that all the names are in all caps. It cannot just print them. It must change the original list.\n",
        " [\"becky\", \"timmy\", \"kyle,\" sam\", \"kendra\", \"marcela\", \"curt\"]\n",
        "\n",
        "**Practice 2**\n",
        "\n",
        "Write a function that puts someone's name into the \"banana fana fo fana\" song.\n",
        "\n",
        "Using the name Katie as an example, the song follows this pattern:\n",
        "\n",
        "    Katie, Katie, bo-batie,\n",
        "    Bonana-fanna fo-fatie\n",
        "    Fee fi mo-matie\n",
        "    Katie!\n",
        "\n",
        "Run your function on one of the names in the list.\n",
        "\n",
        "**Practice 3**\n",
        "\n",
        "Write a for loop that applies the bonana fana function to the now all caps name list. Or, write a function that does practice 2 iteratively on a list. Two ways to get to the same thing. Now. What's the difference?\n"
      ],
      "metadata": {
        "id": "s0gYKb6sdmTd"
      }
    },
    {
      "cell_type": "code",
      "execution_count": null,
      "metadata": {
        "id": "UyP74jLcdHJR"
      },
      "outputs": [],
      "source": [
        "names =  [\"becky\", \"timmy\", \"kyle,\" \"sam\", \"kendra\", \"marcela\", \"curt\"]"
      ]
    }
  ]
}